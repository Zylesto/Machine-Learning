{
 "cells": [
  {
   "cell_type": "code",
   "execution_count": 18,
   "id": "09fa974c",
   "metadata": {},
   "outputs": [],
   "source": [
    "import numpy as np\n",
    "import pandas as pd\n",
    "import matplotlib.pyplot as plt\n",
    "from sklearn import datasets\n",
    "\n",
    "np.random.seed(42)"
   ]
  },
  {
   "cell_type": "code",
   "execution_count": 59,
   "id": "b7e1fe3c",
   "metadata": {},
   "outputs": [],
   "source": [
    "iris = datasets.load_iris()\n",
    "\n",
    "X = iris.data\n",
    "y = iris.target\n",
    "\n",
    "class_names = iris.target_names\n",
    "description = iris.DESCR"
   ]
  },
  {
   "cell_type": "code",
   "execution_count": 60,
   "id": "8b046ec7",
   "metadata": {},
   "outputs": [
    {
     "name": "stdout",
     "output_type": "stream",
     "text": [
      "150 4 3\n"
     ]
    }
   ],
   "source": [
    "num_samples = X.shape[0]\n",
    "num_features = X.shape[1]\n",
    "num_classes = len(class_names)\n",
    "\n",
    "print(num_samples, num_features, num_classes)"
   ]
  },
  {
   "cell_type": "code",
   "execution_count": 61,
   "id": "93e62699",
   "metadata": {},
   "outputs": [
    {
     "name": "stdout",
     "output_type": "stream",
     "text": [
      "(100, 4) (100,) (50, 4) (50,)\n"
     ]
    }
   ],
   "source": [
    "test_size = num_samples // 3\n",
    "\n",
    "random_idxs = np.random.permutation(num_samples)\n",
    "\n",
    "x_train = X[random_idxs[:-test_size]]\n",
    "y_train = y[random_idxs[:-test_size]]\n",
    "\n",
    "x_test = X[random_idxs[-test_size:]]\n",
    "y_test = y[random_idxs[-test_size:]]\n",
    "\n",
    "print(x_train.shape, y_train.shape, x_test.shape, y_test.shape)"
   ]
  },
  {
   "cell_type": "code",
   "execution_count": 62,
   "id": "b4d724a9",
   "metadata": {},
   "outputs": [
    {
     "name": "stdout",
     "output_type": "stream",
     "text": [
      "98.0\n"
     ]
    }
   ],
   "source": [
    "from sklearn.neighbors import KNeighborsClassifier\n",
    "\n",
    "clf = KNeighborsClassifier(3)\n",
    "clf.fit(x_train, y_train)\n",
    "\n",
    "y_pred = clf.predict(x_test)\n",
    "\n",
    "accuracy = clf.score(x_test, y_test)\n",
    "print(accuracy*100)"
   ]
  },
  {
   "cell_type": "code",
   "execution_count": 53,
   "id": "ba061c51",
   "metadata": {},
   "outputs": [
    {
     "name": "stdout",
     "output_type": "stream",
     "text": [
      "Neighbors:1, Weight: uniform, Accuracy: 0.76\n",
      "Neighbors:1, Weight: distance, Accuracy: 0.76\n",
      "Neighbors:2, Weight: uniform, Accuracy: 0.7\n",
      "Neighbors:2, Weight: distance, Accuracy: 0.72\n",
      "Neighbors:3, Weight: uniform, Accuracy: 0.74\n",
      "Neighbors:3, Weight: distance, Accuracy: 0.78\n",
      "Neighbors:4, Weight: uniform, Accuracy: 0.7\n",
      "Neighbors:4, Weight: distance, Accuracy: 0.78\n",
      "Neighbors:5, Weight: uniform, Accuracy: 0.74\n",
      "Neighbors:5, Weight: distance, Accuracy: 0.78\n",
      "Neighbors:6, Weight: uniform, Accuracy: 0.66\n",
      "Neighbors:6, Weight: distance, Accuracy: 0.78\n",
      "Neighbors:7, Weight: uniform, Accuracy: 0.68\n",
      "Neighbors:7, Weight: distance, Accuracy: 0.78\n",
      "Neighbors:8, Weight: uniform, Accuracy: 0.68\n",
      "Neighbors:8, Weight: distance, Accuracy: 0.76\n",
      "Neighbors:9, Weight: uniform, Accuracy: 0.68\n",
      "Neighbors:9, Weight: distance, Accuracy: 0.76\n"
     ]
    }
   ],
   "source": [
    "n_neighbors = [n_neighbor for n_neighbor in range(1,10)]\n",
    "weight_modes = [\"uniform\", \"distance\"]\n",
    "\n",
    "for n in n_neighbors:\n",
    "    for w in weight_modes:\n",
    "        clf = KNeighborsClassifier(n_neighbors = n, weights = w)\n",
    "        clf.fit(x_train, y_train)\n",
    "        acc = clf.score(x_test, y_test)\n",
    "        print(f\"Neighbors:{n}, Weight: {w}, Accuracy: {acc}\")"
   ]
  }
 ],
 "metadata": {
  "kernelspec": {
   "display_name": "Python 3 (ipykernel)",
   "language": "python",
   "name": "python3"
  },
  "language_info": {
   "codemirror_mode": {
    "name": "ipython",
    "version": 3
   },
   "file_extension": ".py",
   "mimetype": "text/x-python",
   "name": "python",
   "nbconvert_exporter": "python",
   "pygments_lexer": "ipython3",
   "version": "3.9.7"
  }
 },
 "nbformat": 4,
 "nbformat_minor": 5
}
